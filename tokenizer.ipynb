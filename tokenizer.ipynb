{
 "cells": [
  {
   "cell_type": "code",
   "execution_count": 1,
   "id": "1e7d15f1",
   "metadata": {},
   "outputs": [],
   "source": [
    "import os\n",
    "import youtokentome as yttm\n",
    "from transformers import AutoModelForCausalLM\n",
    "import torch\n",
    "\n",
    "#model = AutoModelForCausalLM.from_pretrained(\"JetBrains_model\", gguf_file=\"flcc.model\", torch_dtype=torch.float32)"
   ]
  },
  {
   "cell_type": "code",
   "execution_count": 26,
   "id": "f84e27d6",
   "metadata": {},
   "outputs": [
    {
     "name": "stdout",
     "output_type": "stream",
     "text": [
      "Token IDs: [4, 16384]\n",
      "Decoded back: \n",
      "assertEquals\n"
     ]
    }
   ],
   "source": [
    "prefix_code = \"assertEquals\"\n",
    "\n",
    "#bpe = yttm.BPE(model=\"JetBrains_model/flcc.bpe\")\n",
    "bpe = yttm.BPE(model=\"yttm_models_test/yttm_vocab_16384.bpe\")\n",
    "\n",
    "tokens = bpe.encode(prefix_code, output_type=yttm.OutputType.ID)\n",
    "\n",
    "# Print tokenization to verify\n",
    "print(f\"Token IDs: {tokens}\")\n",
    "print(f\"Decoded back: {bpe.decode([tokens])[0]}\")"
   ]
  }
 ],
 "metadata": {
  "kernelspec": {
   "display_name": ".venv",
   "language": "python",
   "name": "python3"
  },
  "language_info": {
   "codemirror_mode": {
    "name": "ipython",
    "version": 3
   },
   "file_extension": ".py",
   "mimetype": "text/x-python",
   "name": "python",
   "nbconvert_exporter": "python",
   "pygments_lexer": "ipython3",
   "version": "3.9.12"
  }
 },
 "nbformat": 4,
 "nbformat_minor": 5
}
