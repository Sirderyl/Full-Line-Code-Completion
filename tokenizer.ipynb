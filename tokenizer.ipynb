{
 "cells": [
  {
   "cell_type": "code",
   "execution_count": 1,
   "id": "1e7d15f1",
   "metadata": {},
   "outputs": [
    {
     "data": {
      "application/vnd.jupyter.widget-view+json": {
       "model_id": "6e333afbd376488aa5a651f219131963",
       "version_major": 2,
       "version_minor": 0
      },
      "text/plain": [
       "Converting and de-quantizing GGUF tensors...:   0%|          | 0/57 [00:00<?, ?it/s]"
      ]
     },
     "metadata": {},
     "output_type": "display_data"
    }
   ],
   "source": [
    "import os\n",
    "import youtokentome as yttm\n",
    "from transformers import AutoModelForCausalLM\n",
    "import torch\n",
    "\n",
    "model = AutoModelForCausalLM.from_pretrained(\"JetBrains_model\", gguf_file=\"flcc.model\", torch_dtype=torch.float32)"
   ]
  },
  {
   "cell_type": "code",
   "execution_count": 2,
   "id": "f84e27d6",
   "metadata": {},
   "outputs": [
    {
     "name": "stdout",
     "output_type": "stream",
     "text": [
      "Token IDs: [4, 1907, 6467, 95, 12885, 315, 9499, 34, 6122, 699, 2772, 36]\n",
      "Decoded back: \n",
      "public static void main(String[] args) {}\n"
     ]
    }
   ],
   "source": [
    "prefix_code = \"public static void main(String[] args) {}\"\n",
    "\n",
    "bpe = yttm.BPE(model=\"JetBrains_model/flcc.bpe\")\n",
    "\n",
    "tokens = bpe.encode(prefix_code, output_type=yttm.OutputType.ID)\n",
    "\n",
    "# Print tokenization to verify\n",
    "print(f\"Token IDs: {tokens}\")\n",
    "print(f\"Decoded back: {bpe.decode([tokens])[0]}\")"
   ]
  }
 ],
 "metadata": {
  "kernelspec": {
   "display_name": ".venv",
   "language": "python",
   "name": "python3"
  },
  "language_info": {
   "codemirror_mode": {
    "name": "ipython",
    "version": 3
   },
   "file_extension": ".py",
   "mimetype": "text/x-python",
   "name": "python",
   "nbconvert_exporter": "python",
   "pygments_lexer": "ipython3",
   "version": "3.9.12"
  }
 },
 "nbformat": 4,
 "nbformat_minor": 5
}
