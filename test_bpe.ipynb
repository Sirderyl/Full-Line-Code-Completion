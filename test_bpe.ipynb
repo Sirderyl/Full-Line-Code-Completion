{
 "cells": [
  {
   "cell_type": "code",
   "execution_count": 1,
   "id": "3fded54e",
   "metadata": {},
   "outputs": [
    {
     "name": "stdout",
     "output_type": "stream",
     "text": [
      "Encoding(num_tokens=2, attributes=[ids, type_ids, tokens, offsets, attention_mask, special_tokens_mask, overflowing])\n",
      "2\n",
      "Tokens:\n",
      " 225\n",
      " Unknown ID\n"
     ]
    }
   ],
   "source": [
    "from tokenizers import Tokenizer\n",
    "\n",
    "TOKENIZER_PATH = \"./custom_bpe_0/bpe_tokenizer.json\"\n",
    "INITIAL_VOCAB_SIZE = 226\n",
    "\n",
    "id_to_char = { str(i): chr(0xE000 + i) for i in range(INITIAL_VOCAB_SIZE) }\n",
    "char_to_id = { v: k for k, v in id_to_char.items() }\n",
    "\n",
    "tokenizer = Tokenizer.from_file(TOKENIZER_PATH)\n",
    "\n",
    "string = \"225 52 73 66 83 70 69 49 83 70 71 70 83 70 79 68 70 84\"\n",
    "tokens = string.split()\n",
    "unicode_str = \"\".join(id_to_char[t] for t in tokens)\n",
    "encoding = tokenizer.encode(unicode_str)\n",
    "print(encoding)\n",
    "print(len(encoding.tokens))\n",
    "print(\"Tokens:\")\n",
    "for token in encoding.tokens:\n",
    "    print(token, char_to_id.get(token, \"Unknown ID\"))"
   ]
  }
 ],
 "metadata": {
  "kernelspec": {
   "display_name": ".venv",
   "language": "python",
   "name": "python3"
  },
  "language_info": {
   "codemirror_mode": {
    "name": "ipython",
    "version": 3
   },
   "file_extension": ".py",
   "mimetype": "text/x-python",
   "name": "python",
   "nbconvert_exporter": "python",
   "pygments_lexer": "ipython3",
   "version": "3.9.12"
  }
 },
 "nbformat": 4,
 "nbformat_minor": 5
}
