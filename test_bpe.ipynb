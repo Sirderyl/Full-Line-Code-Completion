{
 "cells": [
  {
   "cell_type": "code",
   "execution_count": 6,
   "id": "149b6c1c",
   "metadata": {},
   "outputs": [
    {
     "name": "stdout",
     "output_type": "stream",
     "text": [
      "[14451, 743, 14458, 661, 14454, 55, 541, 14451, 495, 805, 655, 805, 55, 541, 14451, 834, 925, 76, 14451, 303, 14455, 3, 1051, 14451, 121, 14456, 1316]\n",
      "27\n"
     ]
    }
   ],
   "source": [
    "import sentencepiece as spm\n",
    "import os\n",
    "\n",
    "path = \"./bpe_models/bpe_model_k_1000.model\"\n",
    "\n",
    "sp = spm.SentencePieceProcessor()\n",
    "sp.Load(path)\n",
    "\n",
    "text = \"public static void main(String[] args) {}\"\n",
    "    \n",
    "# Get token IDs\n",
    "token_ids = sp.Encode(text)\n",
    "\n",
    "print(token_ids)\n",
    "print(len(token_ids))"
   ]
  },
  {
   "cell_type": "code",
   "execution_count": 8,
   "id": "23bdb808",
   "metadata": {},
   "outputs": [
    {
     "name": "stdout",
     "output_type": "stream",
     "text": [
      "u\n"
     ]
    }
   ],
   "source": [
    "token_ids = [14458]\n",
    "\n",
    "# Decode ID to text\n",
    "decoded_text = sp.Decode(token_ids)\n",
    "\n",
    "print(decoded_text)"
   ]
  }
 ],
 "metadata": {
  "kernelspec": {
   "display_name": ".venv",
   "language": "python",
   "name": "python3"
  },
  "language_info": {
   "codemirror_mode": {
    "name": "ipython",
    "version": 3
   },
   "file_extension": ".py",
   "mimetype": "text/x-python",
   "name": "python",
   "nbconvert_exporter": "python",
   "pygments_lexer": "ipython3",
   "version": "3.9.12"
  }
 },
 "nbformat": 4,
 "nbformat_minor": 5
}
