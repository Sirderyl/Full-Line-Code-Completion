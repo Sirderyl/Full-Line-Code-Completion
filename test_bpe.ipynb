{
 "cells": [
  {
   "cell_type": "code",
   "execution_count": 1,
   "id": "149b6c1c",
   "metadata": {},
   "outputs": [
    {
     "data": {
      "text/plain": [
       "True"
      ]
     },
     "execution_count": 1,
     "metadata": {},
     "output_type": "execute_result"
    }
   ],
   "source": [
    "import sentencepiece as spm\n",
    "import os\n",
    "\n",
    "path = \"./bpe_models_test/bpe_model_k_0.model\"\n",
    "\n",
    "sp = spm.SentencePieceProcessor()\n",
    "sp.Load(path)"
   ]
  },
  {
   "cell_type": "code",
   "execution_count": null,
   "id": "23bdb808",
   "metadata": {},
   "outputs": [],
   "source": [
    "text = \"public static void main(String[] args) {}\"\n",
    "    \n",
    "# Get token IDs\n",
    "token_ids = sp.Encode(text)\n",
    "\n",
    "print(token_ids)\n",
    "print(len(token_ids))\n",
    "\n",
    "token_ids = [14458]\n",
    "\n",
    "# Decode ID to text\n",
    "decoded_text = sp.Decode(token_ids)\n",
    "\n",
    "print(decoded_text)"
   ]
  },
  {
   "cell_type": "code",
   "execution_count": 2,
   "id": "d90f51fa",
   "metadata": {},
   "outputs": [
    {
     "name": "stdout",
     "output_type": "stream",
     "text": [
      "Total tokens: 8761619\n"
     ]
    }
   ],
   "source": [
    "file_dir = \"./data/clean_extract/processed_part_0000\"\n",
    "\n",
    "# Collect all extracted Java files\n",
    "java_files = [os.path.join(file_dir, f) for f in os.listdir(file_dir) if f.endswith('.java')]\n",
    "\n",
    "total_tokens = 0\n",
    "for java_file in java_files:\n",
    "    with open(java_file, \"r\", encoding=\"utf-8\") as f:\n",
    "        content = f.read()\n",
    "        tokens = sp.Encode(content, out_type=int)\n",
    "        total_tokens += len(tokens)\n",
    "\n",
    "print(f\"Total tokens: {total_tokens}\")"
   ]
  }
 ],
 "metadata": {
  "kernelspec": {
   "display_name": ".venv",
   "language": "python",
   "name": "python3"
  },
  "language_info": {
   "codemirror_mode": {
    "name": "ipython",
    "version": 3
   },
   "file_extension": ".py",
   "mimetype": "text/x-python",
   "name": "python",
   "nbconvert_exporter": "python",
   "pygments_lexer": "ipython3",
   "version": "3.9.12"
  }
 },
 "nbformat": 4,
 "nbformat_minor": 5
}
